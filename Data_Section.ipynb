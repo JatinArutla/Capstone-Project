{
 "cells": [
  {
   "cell_type": "markdown",
   "metadata": {},
   "source": [
    "# Predicting the best location for a business startups in a particular neighborhood"
   ]
  },
  {
   "cell_type": "markdown",
   "metadata": {},
   "source": [
    "## _Data Section_"
   ]
  },
  {
   "cell_type": "markdown",
   "metadata": {},
   "source": [
    "### Data Sources\n",
    "1. Data of neighborhoods and respective postal codes are gathered by scraping the web page (Wikipedia).\n",
    "2. Using the postal codes the latitude and longitude locations of that respective neighborhoods are gathered from a \".csv\" file provided on the Internet.\n",
    "3. Data relating to the venues in a certain neighborhood according to the postal codes are gathered using the FOURSQUARE API."
   ]
  },
  {
   "cell_type": "markdown",
   "metadata": {},
   "source": [
    "### Data Cleaning"
   ]
  },
  {
   "cell_type": "markdown",
   "metadata": {},
   "source": [
    " 1. - The data obtained from the Wikipedia page is taken as HTML text at first so it taken into a pandas data frame.\n",
    "    - Then the rows with 'Borough' as 'Not assigned' are dropped.\n",
    "    - All the rows with  'Neighborhood' feature as 'Not assigned' are replaced with it 'Borough' feature.\n",
    "    - Then the locations are grouped according to the postal codes.\n",
    "    \n",
    "    \n",
    " 2. - The \".csv\" file is converted to a data frame .\n",
    "    - Latitude and longitude are filtered out according to the postal codes and are stored in 'latitude' ,'longitude' features of the previous data frame.\n",
    "   \n",
    " "
   ]
  },
  {
   "cell_type": "markdown",
   "metadata": {},
   "source": [
    "### Features"
   ]
  },
  {
   "cell_type": "markdown",
   "metadata": {},
   "source": [
    " - **Postalcode**  - contains the postal codes of the boroughs in Toronto.\n",
    " \n",
    " \n",
    " - **Borough**     - stores the Borough name.\n",
    " \n",
    " \n",
    " - **Neighborhood** -contains comma seperated list of all the neighborhoods that come under the Postalcode and Borough\n",
    " \n",
    " \n",
    " - **Latitude**    - contains the latitude of that region obtained using the postalcode.\n",
    " \n",
    " \n",
    " - **Longitude**   - contains the longitude of that region obtained using the postalcode.\n"
   ]
  }
 ],
 "metadata": {
  "kernelspec": {
   "display_name": "Python",
   "language": "python",
   "name": "conda-env-python-py"
  },
  "language_info": {
   "codemirror_mode": {
    "name": "ipython",
    "version": 3
   },
   "file_extension": ".py",
   "mimetype": "text/x-python",
   "name": "python",
   "nbconvert_exporter": "python",
   "pygments_lexer": "ipython3",
   "version": "3.6.7"
  }
 },
 "nbformat": 4,
 "nbformat_minor": 4
}
